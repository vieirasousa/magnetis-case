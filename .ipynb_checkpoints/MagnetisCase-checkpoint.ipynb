{
 "cells": [
  {
   "cell_type": "markdown",
   "metadata": {},
   "source": [
    "<img style=\"max-width: 400px; padding-top: 60px;\" src=\"https://tesouro-tool.herokuapp.com/assets/magnetis-c809c23c016772b3bebb5fa7f0575fd85adb51706ee297dae16e8822611d9d0b.svg\"/>"
   ]
  },
  {
   "cell_type": "markdown",
   "metadata": {},
   "source": [
    "<h1 style=\"text-align: center; color: gray;\">Case - Analista de Dados</h1>"
   ]
  },
  {
   "cell_type": "markdown",
   "metadata": {},
   "source": [
    "<h3 style=\"text-align: right; color: gray;\">Por Artur V. Sousa</h3>"
   ]
  },
  {
   "cell_type": "markdown",
   "metadata": {},
   "source": [
    "-------------------------------------------------------"
   ]
  },
  {
   "cell_type": "markdown",
   "metadata": {},
   "source": [
    "### Este é arquivo do tipo \"notebook\". Saiba abaixo como utilizá-lo"
   ]
  },
  {
   "cell_type": "markdown",
   "metadata": {},
   "source": [
    "Este arquivo é de um padrão conhecido como \"notebook', produzido em um ambiente chamado Jupyter Notebook. Entre as várias facilidades que apresenta, ele permite que pessoas que não têm domínio sobre programação possam ler um projeto de Ciência/Análise de Dados e compreender o caminho realizado pelo analista do início até suas conclusões, com todos os códigos utilizados.\n",
    "\n",
    "Ou seja, por meio do Jupyter Notebook, o arquivo usado pelo analista para codificar, criar gráficos, tabelas e visualizações dos dados pode ser exatamente o mesmo que será consumido e revisado por outros setores e/ou especialistas.\n",
    "\n",
    "No nosso caso, isso é feito com uma combinação de códigos em Python (e outras linguagens paralelas, como HTML) alternados por textos comuns para que o leitor vá acompanhando o passo a passo. Para viabilizar esse acompanhamento, neste projeto há títulos para sessões e comentários do que está sendo feito a cada etapa, cada um com sua própria formatação. Exemplos dessa aplicação você vê abaixo."
   ]
  },
  {
   "cell_type": "markdown",
   "metadata": {},
   "source": [
    "<h1 style=\"text-align: center; color: #0C29D0;\">Este é um título para marcar início de sessões.</h1>"
   ]
  },
  {
   "cell_type": "markdown",
   "metadata": {},
   "source": [
    "<h3 style=\"text-align: center; color: gray;\">Este é um subtítulo para marcar subsecções</h3>"
   ]
  },
  {
   "cell_type": "markdown",
   "metadata": {},
   "source": [
    "<p style=\"border:1px solid; padding: 10px; background-color: gray; color: white;\">Este é um comentário do tipo 1, que poderá ser inserido antes e depois de blocos de código para informar o leitor do que está sendo feito por meio deles.</p>"
   ]
  },
  {
   "cell_type": "markdown",
   "metadata": {},
   "source": [
    "<p style=\"border:1px solid; padding: 10px; background-color: #f3f9ff; color: #white; border: 0px;\">Este é um comentário do tipo 2, que será geralmente inserido após tabelas e gráficos, ou para comentários secundários. Neste caso usaremos este comentário para explicar que <strong>a linha abaixo é código Python.</strong></p>"
   ]
  },
  {
   "cell_type": "code",
   "execution_count": 1,
   "metadata": {},
   "outputs": [
    {
     "name": "stdout",
     "output_type": "stream",
     "text": [
      "Estas duas linhas são código em Python. A de cima é o comando feito, e a de baixo é o que retorna desse comando.\n"
     ]
    }
   ],
   "source": [
    "print(\"Estas duas linhas são código em Python. A de cima é o comando feito, e a de baixo é o que retorna desse comando.\")"
   ]
  },
  {
   "cell_type": "markdown",
   "metadata": {},
   "source": [
    "<p style=\"border:1px solid; padding: 10px; background-color: green; color: white; border: 0px;\">Este é um box de conclusões. Ele será utilizado ao fim de cada sessão para descrever os resultados encontrados para aquele requisito.</p>"
   ]
  },
  {
   "cell_type": "markdown",
   "metadata": {},
   "source": [
    "<br>\n",
    "Este comentário sem formatação é do tipo 3, que será usado em situações específicas, por exemplo, para apresentação de listas, como as que apresentaremos logo abaixo, na Introdução ao projeto."
   ]
  },
  {
   "cell_type": "markdown",
   "metadata": {},
   "source": [
    "-------------------------------------------------------"
   ]
  },
  {
   "cell_type": "markdown",
   "metadata": {},
   "source": [
    "<h1 style=\"text-align: center; color: #0C29D0;\">Introdução</h1>"
   ]
  },
  {
   "cell_type": "markdown",
   "metadata": {},
   "source": [
    "<h3 style=\"text-align: center; color: gray;\">Sobre a fonte de dados</h3>"
   ]
  },
  {
   "cell_type": "markdown",
   "metadata": {},
   "source": [
    "#### Neste projeto iremos explorar um dataset de nome 'navegacao_usuarios' disponibilizado pela Magnetis no formato CSV. Este arquivo contém registros de acessos ao site da empresa, cujas informações são descritas pelas seguintes colunas:\n",
    "\n",
    "<br>\n",
    "\n",
    "| Id do usuário | Origem de Tráfego | Dispositivo | Página | Valor simulado em reais |\n",
    "|:--|:--:|:--:|:--:|--:|\n",
    "| | | | | |"
   ]
  },
  {
   "cell_type": "markdown",
   "metadata": {},
   "source": [
    "Por sua própria configuração supomos se tratar de um arquivo produzido com o cruzamento de dados do Google Analytics com dados de alguma outra base. Portanto, com exceção de \"Valor Simulado em Reais\", todas as métricas serão tratadas como se fossem extraídas do Google Analytics, e nossas conclusões partirão disso.\n",
    "\n",
    "Abaixo detalhamos o que está registrado em cada uma das colunas."
   ]
  },
  {
   "cell_type": "markdown",
   "metadata": {},
   "source": [
    "#### Id do usuários\n",
    "Coluna padrão em datasets de todos os tipos, que exibe um número de identificação para cada item único, no caso aqui, para cada usuário."
   ]
  },
  {
   "cell_type": "markdown",
   "metadata": {},
   "source": [
    "#### Origem do Tráfego\n",
    "Apresenta o canal de onde um usuário é originário. As origens possíveis são 4: \n",
    "* **Paid Search:** usuário vindo de patrocínio em motores de busca, como o Google e Bing.\n",
    "* **Direct:** usuário que chegou ao site diretamente pelo URL www.magnetis.com, por e-mail, apps de mensagem ou por outro meio ignorado.\n",
    "* **Organic Search:** usuário que acessou o site por meio de uma busca orgânica em um motor de busca.\n",
    "* **Social:** usuário encaminhado ao site a partir de um link em postagem de mídias sociais. "
   ]
  },
  {
   "cell_type": "markdown",
   "metadata": {},
   "source": [
    "#### Dispositivo\n",
    "Apresenta o tipo de dispositivo utilizado pelo usuário para efetuar o acesso ao site. Temos 2 possíveis dispositivos: \n",
    "* **Desktop:** acesso feito a partir de um PC.\n",
    "* **Mobile:** acesso feito a partir de um smartphone."
   ]
  },
  {
   "cell_type": "markdown",
   "metadata": {},
   "source": [
    "#### Página\n",
    "Exibe as páginas acessadas por cada usuário dentro do site da Magnetis. Por conta da estratégia de usabilidade e conversão do site, também apresenta o caminho do usuário dentro do funil de vendas.\n",
    "* **1 - Homepage:** o usuário acessou a página inicial e saiu sem entrar em nenhuma outra. No funil de vendas, este usuário estaria no nível de conhecimento inicial da Magnetis e seus serviços, também conhecido como *Awareness*.\n",
    "* **2 - Questionário:** o usuário clicou no botão \"Comece agora\", dentro da área \"Crie seu plano\", entrou na página /questionario e deixou o site aí mesmo. No funil de vendas este cliente estaria no nível de interessado.\n",
    "* **3 - Plano de Investimentos:** o usuário respondeu ao questionário e deu informações sobre o tipo de investimento que está projetando fazer e dos recursos que dispõe no momento. No funil de vendas este cliente está na etapa de decisão, e já é considerado um *Prospect*.\n",
    "* **4 - Cadastro:** o lead chegou ao último nível do funil, deixou seu telefone e já é considerado uma conversão."
   ]
  },
  {
   "cell_type": "markdown",
   "metadata": {},
   "source": [
    "#### Valor simulado em reais\n",
    "Exibe em Reais a pretensão de investimento do potencial cliente."
   ]
  },
  {
   "cell_type": "markdown",
   "metadata": {},
   "source": [
    "<br>\n",
    "<h3 style=\"text-align: center; color: gray;\">Sobre os requisitos deste projeto</h3>"
   ]
  },
  {
   "cell_type": "markdown",
   "metadata": {},
   "source": [
    "#### A partir do dataset descrito acima, responderemos aos seguintes requisitos:"
   ]
  },
  {
   "cell_type": "markdown",
   "metadata": {},
   "source": [
    "1. Dê um panorama da performance do funil:\n",
    "    * Fale como fez a análise dos dados (excel, SQL, python, etc. Caso tenha usado algum código, mostre o código utilizado)\n",
    "    * Apresente a análise como achar necessário (textos, tabelas, gráficos), explicando ponto a ponto dos resultados obtidos.\n",
    "\n",
    "\n",
    "2. Com base na resposta anterior, aponte onde há potenciais de melhoria e o que você sugere para aumentar as taxas de conversão do funil. Explique suas escolhas.\n",
    "\n",
    "\n",
    "3. Pensando que os dados do CSV são uma simplificação do funil de conversão da Magnetis, observe o nosso funil verdadeiro até a página que pede signup + CPF (www.magnetis.com.br). Quais hipóteses você teria de melhorias no nosso funil de conversão? Quais outros dados você utilizaria e como analisaria para confirmar suas hipóteses?"
   ]
  },
  {
   "cell_type": "markdown",
   "metadata": {},
   "source": [
    "<br>\n",
    "<h3 style=\"text-align: center; color: gray;\">Importação das bibliotecas e do dataset, configurações de estilos.</h3>"
   ]
  },
  {
   "cell_type": "code",
   "execution_count": 2,
   "metadata": {},
   "outputs": [],
   "source": [
    "import pandas as pd\n",
    "import numpy as np\n",
    "import matplotlib.pyplot as plt\n",
    "import seaborn as sns\n",
    "plt.rcParams.update({'font.size': 15})\n",
    "plt.rcParams['figure.figsize'] = 18, 5\n",
    "pd.set_option('display.max_colwidth', 50)"
   ]
  },
  {
   "cell_type": "markdown",
   "metadata": {},
   "source": [
    "<p style=\"border:1px solid; padding: 10px; background-color: gray; color: white;\">Acima importamos 4 bibliotecas que utilizaremos em nossa análise. O Pandas, para trabalhar com o formato de DataFrame (que nos possibilita uma liberdade incrível para transformar e fatiar o dataset), o Numpy (que oferece várias operações matemáticas e estatísticas importantes), além do Matplotlib e o Seaborn, que nos são úteis para a geração de gráficos. As últimas três linhas definem parâmetros de estilos de exibição para gráficos e textos.</p>"
   ]
  },
  {
   "cell_type": "code",
   "execution_count": 3,
   "metadata": {},
   "outputs": [],
   "source": [
    "users = pd.read_csv('navegacao_usuarios.csv')"
   ]
  },
  {
   "cell_type": "markdown",
   "metadata": {},
   "source": [
    "<p style=\"border:1px solid; padding: 10px; background-color: gray; color: white;\">Acima importamos o CSV que utilizaremos para nossa análise, tranformando-o em um DataFrame do Pandas. Para conhecer melhor os dados, vamos visualizar abaixo as 5 primeiras linhas do DataFrame e também as 5 últimas.</p>"
   ]
  },
  {
   "cell_type": "code",
   "execution_count": 4,
   "metadata": {},
   "outputs": [
    {
     "data": {
      "text/html": [
       "<div>\n",
       "<style scoped>\n",
       "    .dataframe tbody tr th:only-of-type {\n",
       "        vertical-align: middle;\n",
       "    }\n",
       "\n",
       "    .dataframe tbody tr th {\n",
       "        vertical-align: top;\n",
       "    }\n",
       "\n",
       "    .dataframe thead th {\n",
       "        text-align: right;\n",
       "    }\n",
       "</style>\n",
       "<table border=\"1\" class=\"dataframe\">\n",
       "  <thead>\n",
       "    <tr style=\"text-align: right;\">\n",
       "      <th></th>\n",
       "      <th>Id</th>\n",
       "      <th>Origem de Tréfego</th>\n",
       "      <th>Dispositivo</th>\n",
       "      <th>Página</th>\n",
       "      <th>Valor Simulado</th>\n",
       "    </tr>\n",
       "  </thead>\n",
       "  <tbody>\n",
       "    <tr>\n",
       "      <th>0</th>\n",
       "      <td>1</td>\n",
       "      <td>Paid Search</td>\n",
       "      <td>desktop</td>\n",
       "      <td>1 - Homepage</td>\n",
       "      <td>NaN</td>\n",
       "    </tr>\n",
       "    <tr>\n",
       "      <th>1</th>\n",
       "      <td>2</td>\n",
       "      <td>Paid Search</td>\n",
       "      <td>desktop</td>\n",
       "      <td>1 - Homepage</td>\n",
       "      <td>NaN</td>\n",
       "    </tr>\n",
       "    <tr>\n",
       "      <th>2</th>\n",
       "      <td>3</td>\n",
       "      <td>Paid Search</td>\n",
       "      <td>desktop</td>\n",
       "      <td>4 - Cadastro</td>\n",
       "      <td>2000.0</td>\n",
       "    </tr>\n",
       "    <tr>\n",
       "      <th>3</th>\n",
       "      <td>3</td>\n",
       "      <td>Paid Search</td>\n",
       "      <td>desktop</td>\n",
       "      <td>1 - Homepage</td>\n",
       "      <td>2000.0</td>\n",
       "    </tr>\n",
       "    <tr>\n",
       "      <th>4</th>\n",
       "      <td>3</td>\n",
       "      <td>Paid Search</td>\n",
       "      <td>desktop</td>\n",
       "      <td>3 - Plano de Investimentos</td>\n",
       "      <td>2000.0</td>\n",
       "    </tr>\n",
       "  </tbody>\n",
       "</table>\n",
       "</div>"
      ],
      "text/plain": [
       "   Id Origem de Tréfego Dispositivo                      Página  \\\n",
       "0   1       Paid Search     desktop                1 - Homepage   \n",
       "1   2       Paid Search     desktop                1 - Homepage   \n",
       "2   3       Paid Search     desktop                4 - Cadastro   \n",
       "3   3       Paid Search     desktop                1 - Homepage   \n",
       "4   3       Paid Search     desktop  3 - Plano de Investimentos   \n",
       "\n",
       "   Valor Simulado  \n",
       "0             NaN  \n",
       "1             NaN  \n",
       "2          2000.0  \n",
       "3          2000.0  \n",
       "4          2000.0  "
      ]
     },
     "execution_count": 4,
     "metadata": {},
     "output_type": "execute_result"
    }
   ],
   "source": [
    "users.head()"
   ]
  },
  {
   "cell_type": "code",
   "execution_count": 5,
   "metadata": {},
   "outputs": [
    {
     "data": {
      "text/html": [
       "<div>\n",
       "<style scoped>\n",
       "    .dataframe tbody tr th:only-of-type {\n",
       "        vertical-align: middle;\n",
       "    }\n",
       "\n",
       "    .dataframe tbody tr th {\n",
       "        vertical-align: top;\n",
       "    }\n",
       "\n",
       "    .dataframe thead th {\n",
       "        text-align: right;\n",
       "    }\n",
       "</style>\n",
       "<table border=\"1\" class=\"dataframe\">\n",
       "  <thead>\n",
       "    <tr style=\"text-align: right;\">\n",
       "      <th></th>\n",
       "      <th>Id</th>\n",
       "      <th>Origem de Tréfego</th>\n",
       "      <th>Dispositivo</th>\n",
       "      <th>Página</th>\n",
       "      <th>Valor Simulado</th>\n",
       "    </tr>\n",
       "  </thead>\n",
       "  <tbody>\n",
       "    <tr>\n",
       "      <th>18238</th>\n",
       "      <td>32298</td>\n",
       "      <td>Direct</td>\n",
       "      <td>desktop</td>\n",
       "      <td>2 - Questionário</td>\n",
       "      <td>50000.0</td>\n",
       "    </tr>\n",
       "    <tr>\n",
       "      <th>18239</th>\n",
       "      <td>32299</td>\n",
       "      <td>Direct</td>\n",
       "      <td>desktop</td>\n",
       "      <td>4 - Cadastro</td>\n",
       "      <td>120000.0</td>\n",
       "    </tr>\n",
       "    <tr>\n",
       "      <th>18240</th>\n",
       "      <td>32299</td>\n",
       "      <td>Direct</td>\n",
       "      <td>desktop</td>\n",
       "      <td>1 - Homepage</td>\n",
       "      <td>120000.0</td>\n",
       "    </tr>\n",
       "    <tr>\n",
       "      <th>18241</th>\n",
       "      <td>32299</td>\n",
       "      <td>Direct</td>\n",
       "      <td>desktop</td>\n",
       "      <td>3 - Plano de Investimentos</td>\n",
       "      <td>120000.0</td>\n",
       "    </tr>\n",
       "    <tr>\n",
       "      <th>18242</th>\n",
       "      <td>32299</td>\n",
       "      <td>Direct</td>\n",
       "      <td>desktop</td>\n",
       "      <td>2 - Questionário</td>\n",
       "      <td>120000.0</td>\n",
       "    </tr>\n",
       "  </tbody>\n",
       "</table>\n",
       "</div>"
      ],
      "text/plain": [
       "          Id Origem de Tréfego Dispositivo                      Página  \\\n",
       "18238  32298            Direct     desktop            2 - Questionário   \n",
       "18239  32299            Direct     desktop                4 - Cadastro   \n",
       "18240  32299            Direct     desktop                1 - Homepage   \n",
       "18241  32299            Direct     desktop  3 - Plano de Investimentos   \n",
       "18242  32299            Direct     desktop            2 - Questionário   \n",
       "\n",
       "       Valor Simulado  \n",
       "18238         50000.0  \n",
       "18239        120000.0  \n",
       "18240        120000.0  \n",
       "18241        120000.0  \n",
       "18242        120000.0  "
      ]
     },
     "execution_count": 5,
     "metadata": {},
     "output_type": "execute_result"
    }
   ],
   "source": [
    "users.tail()"
   ]
  },
  {
   "cell_type": "markdown",
   "metadata": {},
   "source": [
    "<p style=\"border:1px solid; padding: 10px; background-color: gray; color: white;\">Vamos agora conhecer a quantidade de linhas e os tipo de dados que estão contidos nas colunas. Também será possível ver quantos valores nulos há em cada coluna.</p>"
   ]
  },
  {
   "cell_type": "code",
   "execution_count": 6,
   "metadata": {},
   "outputs": [
    {
     "name": "stdout",
     "output_type": "stream",
     "text": [
      "<class 'pandas.core.frame.DataFrame'>\n",
      "RangeIndex: 18243 entries, 0 to 18242\n",
      "Data columns (total 5 columns):\n",
      " #   Column             Non-Null Count  Dtype  \n",
      "---  ------             --------------  -----  \n",
      " 0   Id                 18243 non-null  int64  \n",
      " 1   Origem de Tréfego  18243 non-null  object \n",
      " 2   Dispositivo        18243 non-null  object \n",
      " 3   Página             18243 non-null  object \n",
      " 4   Valor Simulado     12409 non-null  float64\n",
      "dtypes: float64(1), int64(1), object(3)\n",
      "memory usage: 712.7+ KB\n"
     ]
    }
   ],
   "source": [
    "users.info()"
   ]
  },
  {
   "cell_type": "markdown",
   "metadata": {},
   "source": [
    "<p style=\"border:1px solid; padding: 10px; background-color: gray; color: white;\">Temos 18.243 entradas não-nulas. Na coluna 'Valor Simulado' temos 5.843 entradas com valores nulos, o que quer dizer que 5.843 desses não deixaram valor para simulação, ou o valor inserido foi por algum motivo capturado como inconsistente ou não-numérico. Precisaremos transformar esses dados nulos em um formato possível de trabalhar, então substituiremos todos eles por zero.</p>"
   ]
  },
  {
   "cell_type": "code",
   "execution_count": 7,
   "metadata": {},
   "outputs": [
    {
     "data": {
      "text/plain": [
       "12409"
      ]
     },
     "execution_count": 7,
     "metadata": {},
     "output_type": "execute_result"
    }
   ],
   "source": [
    "18243-5834"
   ]
  },
  {
   "cell_type": "code",
   "execution_count": 8,
   "metadata": {},
   "outputs": [],
   "source": [
    "users.loc[users['Valor Simulado'].isnull(), 'Valor Simulado'] = 0"
   ]
  },
  {
   "cell_type": "markdown",
   "metadata": {},
   "source": [
    "<p style=\"border:1px solid; padding: 10px; background-color: gray; color: white;\">Agora, contando valores nulos como zero, veremos quantitativamente como esses leads simularam seus investimentos. A tabela abaixo mostrará à esquerda o valor inserido para simulação, e à direita quantos leads fizeram simulação com esse valor.</p>"
   ]
  },
  {
   "cell_type": "code",
   "execution_count": 9,
   "metadata": {},
   "outputs": [
    {
     "data": {
      "text/plain": [
       "0.0          5834\n",
       "100000.0     1486\n",
       "20000.0      1146\n",
       "1000.0       1001\n",
       "5000.0        993\n",
       "50000.0       945\n",
       "22000.0       709\n",
       "2000.0        645\n",
       "9000.0        551\n",
       "10000.0       504\n",
       "4000.0        496\n",
       "110000.0      434\n",
       "3000.0        358\n",
       "120000.0      348\n",
       "7000.0        324\n",
       "25000.0       286\n",
       "6000.0        272\n",
       "12000.0       262\n",
       "15000.0       261\n",
       "17000.0       210\n",
       "40000.0       168\n",
       "11000.0       153\n",
       "21000.0       130\n",
       "30000.0       130\n",
       "16000.0       118\n",
       "14000.0        85\n",
       "8000.0         72\n",
       "13000.0        65\n",
       "130000.0       64\n",
       "1000000.0      63\n",
       "19000.0        50\n",
       "200000.0       36\n",
       "18000.0        29\n",
       "60000.0        12\n",
       "400000.0        3\n",
       "Name: Valor Simulado, dtype: int64"
      ]
     },
     "execution_count": 9,
     "metadata": {},
     "output_type": "execute_result"
    }
   ],
   "source": [
    "users['Valor Simulado'].value_counts()"
   ]
  },
  {
   "cell_type": "markdown",
   "metadata": {},
   "source": [
    "<p style=\"border:1px solid; padding: 10px; background-color: #f3f9ff; color: #white; border: 0px;\">Tudo certo na tabela. 5.834 pessoas deixaram valores nulos ou iguais a zero, e os 12.409 restantes (resultado da operação 18.243 leads totais menos os 5.834 com investimento nulo) deixaram investimento igual ou maior que R$ 1.000,00.</p>"
   ]
  },
  {
   "cell_type": "markdown",
   "metadata": {},
   "source": [
    "<p style=\"border:1px solid; padding: 10px; background-color: gray; color: white;\">Agora vamos padronizar os valores da coluna \"Página\", para que possamos realizar operações matemáticas de comparação direta entre eles. Criaremos uma escala de profundidade no funil, em que o menor valor é o \"1 - Homepage\" (que vai ser convertido para o número 1) e o maior valor é o \"4 - Cadastro\" (a ser convertido para o número 4). Os valores restantes seguirão a mesma lógica.</p>"
   ]
  },
  {
   "cell_type": "code",
   "execution_count": 10,
   "metadata": {},
   "outputs": [],
   "source": [
    "users.loc[users['Página'] == '1 - Homepage', 'Página'] = 1"
   ]
  },
  {
   "cell_type": "code",
   "execution_count": 11,
   "metadata": {},
   "outputs": [],
   "source": [
    "users.loc[users['Página'] == '2 - Questionário', 'Página'] = 2"
   ]
  },
  {
   "cell_type": "code",
   "execution_count": 12,
   "metadata": {},
   "outputs": [],
   "source": [
    "users.loc[users['Página'] == '3 - Plano de Investimentos', 'Página'] = 3"
   ]
  },
  {
   "cell_type": "code",
   "execution_count": 13,
   "metadata": {},
   "outputs": [],
   "source": [
    "users.loc[users['Página'] == '4 - Cadastro', 'Página'] = 4"
   ]
  },
  {
   "cell_type": "markdown",
   "metadata": {},
   "source": [
    "<p style=\"border:1px solid; padding: 10px; background-color: gray; color: white;\">Agora vamos verificar quais são os valores únicos que existem na coluna \"Página\".</p>"
   ]
  },
  {
   "cell_type": "code",
   "execution_count": 14,
   "metadata": {},
   "outputs": [
    {
     "data": {
      "text/plain": [
       "array([1, 4, 3, 2], dtype=object)"
      ]
     },
     "execution_count": 14,
     "metadata": {},
     "output_type": "execute_result"
    }
   ],
   "source": [
    "users['Página'].unique()"
   ]
  },
  {
   "cell_type": "markdown",
   "metadata": {},
   "source": [
    "<p style=\"border:1px solid; padding: 10px; background-color: gray; color: white;\">Tudo certo, mas conforme informação apresentada acima, esses valores estão no formato \"object\" e precisam ser convertidos para números inteiros para que seja possível fazer operações matemáticas de comparação. Faremos essa conversão abaixo.</p>"
   ]
  },
  {
   "cell_type": "code",
   "execution_count": 15,
   "metadata": {},
   "outputs": [],
   "source": [
    "users['Página'] = users['Página'].astype(int)"
   ]
  },
  {
   "cell_type": "code",
   "execution_count": 16,
   "metadata": {},
   "outputs": [
    {
     "name": "stdout",
     "output_type": "stream",
     "text": [
      "<class 'pandas.core.frame.DataFrame'>\n",
      "RangeIndex: 18243 entries, 0 to 18242\n",
      "Data columns (total 5 columns):\n",
      " #   Column             Non-Null Count  Dtype  \n",
      "---  ------             --------------  -----  \n",
      " 0   Id                 18243 non-null  int64  \n",
      " 1   Origem de Tréfego  18243 non-null  object \n",
      " 2   Dispositivo        18243 non-null  object \n",
      " 3   Página             18243 non-null  int32  \n",
      " 4   Valor Simulado     18243 non-null  float64\n",
      "dtypes: float64(1), int32(1), int64(1), object(2)\n",
      "memory usage: 641.5+ KB\n"
     ]
    }
   ],
   "source": [
    "users.info()"
   ]
  },
  {
   "cell_type": "markdown",
   "metadata": {},
   "source": [
    "<p style=\"border:1px solid; padding: 10px; background-color: #f3f9ff; color: #white; border: 0px;\">Agora, além de termos uma boa compreensão do nosso dataset, ele também está limpo e pronto para ser trabalhado.</p>"
   ]
  },
  {
   "cell_type": "markdown",
   "metadata": {},
   "source": [
    "-------------------------------------------------------"
   ]
  },
  {
   "cell_type": "markdown",
   "metadata": {},
   "source": [
    "<h1 style=\"text-align: center; color: #0C29D0;\">Requisito 1 - Dê um panorama da performance do funil</h1>"
   ]
  },
  {
   "cell_type": "markdown",
   "metadata": {},
   "source": [
    "<p style=\"border:1px solid; padding: 10px; background-color: gray; color: white;\">Para entender o panorama geral do funil de vendas, é importante que vejamos quantitativamente quantos usuários estão em cada um dos 4 níveis. Faremos essa avaliação com um gráfico de barras abaixo. Lembrando que na etapa de reconhecimento e limpeza dos dados, nós convertemos os nomes das páginas para números inteiros, que são capazes de refletir sua profundidade no funil de vendas e ainda de serem usados em operações matemáticas de comparação.</p>"
   ]
  },
  {
   "cell_type": "code",
   "execution_count": 17,
   "metadata": {},
   "outputs": [
    {
     "data": {
      "text/plain": [
       "Text(0, 0.5, 'Número de usuários')"
      ]
     },
     "execution_count": 17,
     "metadata": {},
     "output_type": "execute_result"
    },
    {
     "data": {
      "image/png": "[encoded data removed]",
      "text/plain": [
       "<Figure size 1296x360 with 1 Axes>"
      ]
     },
     "metadata": {
      "needs_background": "light"
     },
     "output_type": "display_data"
    }
   ],
   "source": [
    "ax = sns.countplot(x=\"Página\", data=users)\n",
    "ax.set_ylabel('Número de usuários')"
   ]
  },
  {
   "cell_type": "code",
   "execution_count": 18,
   "metadata": {},
   "outputs": [
    {
     "data": {
      "text/plain": [
       "Text(0, 0.5, '')"
      ]
     },
     "execution_count": 18,
     "metadata": {},
     "output_type": "execute_result"
    },
    {
     "data": {
      "image/png": "[encoded data removed]",
      "text/plain": [
       "<Figure size 1440x576 with 1 Axes>"
      ]
     },
     "metadata": {},
     "output_type": "display_data"
    }
   ],
   "source": [
    "plt.figure(figsize=(20,8))\n",
    "geral_pizza = (users['Página'].value_counts(normalize=True)*100).plot(kind='pie', autopct='%1.1f%%')\n",
    "geral_pizza.set_ylabel('')"
   ]
  },
  {
   "cell_type": "markdown",
   "metadata": {},
   "source": [
    "<p style=\"border:1px solid; padding: 10px; background-color: #f3f9ff; color: #white; border: 0px;\">A composição do funil parece obedecer ao esperado: mais pessoas no início do funil, e conforme aumenta o comprometimento com o produto, essa quantidade vai sendo reduzida. Mas há uma regularidade estranha, e após investigação percebemos que se trata de usuários duplicados, revelando que a mecânica utilizada para captar esses dados foi a de visitas na página, e não de visitas únicas. Esse fato por si só é capaz de provocar uma distorção na nossa análise, e por isso precisará de tratamento.</p>"
   ]
  },
  {
   "cell_type": "markdown",
   "metadata": {},
   "source": [
    "<p style=\"border:1px solid; padding: 10px; background-color: #f3f9ff; color: #white; border: 0px;\">Da maneira como está, o dataset mostra usuários ocupando ao mesmo tempo uma ou mais etapas no funil de vendas. Para compreendermos com mais clareza o que ocorre em cada momento dessa jornada, o ideal é que conforme avance no funil o usuário abandone as fases anteriores.</p>"
   ]
  },
  {
   "cell_type": "markdown",
   "metadata": {},
   "source": [
    "<p style=\"border:1px solid; padding: 10px; background-color: gray; color: white;\">Vamos eliminar as duplicatas, fazendo com que cada Id só apareça no dataset uma única vez, e representado pela última página que acessou.</p>"
   ]
  },
  {
   "cell_type": "code",
   "execution_count": 19,
   "metadata": {},
   "outputs": [],
   "source": [
    "avancaram = users[users['Id'].duplicated(keep=False)]"
   ]
  },
  {
   "cell_type": "code",
   "execution_count": 20,
   "metadata": {},
   "outputs": [],
   "source": [
    "avancaram = avancaram.sort_values(['Id', 'Página'])"
   ]
  },
  {
   "cell_type": "code",
   "execution_count": 21,
   "metadata": {},
   "outputs": [],
   "source": [
    "avancaram = avancaram.drop_duplicates(subset='Id', keep='last')"
   ]
  },
  {
   "cell_type": "markdown",
   "metadata": {},
   "source": [
    "<p style=\"border:1px solid; padding: 10px; background-color: gray; color: white;\">Vamos verificar agora como ficou o dataset de usuários que avançaram no funil de vendas.</p>"
   ]
  },
  {
   "cell_type": "code",
   "execution_count": 22,
   "metadata": {},
   "outputs": [
    {
     "data": {
      "text/html": [
       "<div>\n",
       "<style scoped>\n",
       "    .dataframe tbody tr th:only-of-type {\n",
       "        vertical-align: middle;\n",
       "    }\n",
       "\n",
       "    .dataframe tbody tr th {\n",
       "        vertical-align: top;\n",
       "    }\n",
       "\n",
       "    .dataframe thead th {\n",
       "        text-align: right;\n",
       "    }\n",
       "</style>\n",
       "<table border=\"1\" class=\"dataframe\">\n",
       "  <thead>\n",
       "    <tr style=\"text-align: right;\">\n",
       "      <th></th>\n",
       "      <th>Id</th>\n",
       "      <th>Origem de Tréfego</th>\n",
       "      <th>Dispositivo</th>\n",
       "      <th>Página</th>\n",
       "      <th>Valor Simulado</th>\n",
       "    </tr>\n",
       "  </thead>\n",
       "  <tbody>\n",
       "    <tr>\n",
       "      <th>2</th>\n",
       "      <td>3</td>\n",
       "      <td>Paid Search</td>\n",
       "      <td>desktop</td>\n",
       "      <td>4</td>\n",
       "      <td>2000.0</td>\n",
       "    </tr>\n",
       "    <tr>\n",
       "      <th>37</th>\n",
       "      <td>35</td>\n",
       "      <td>Direct</td>\n",
       "      <td>desktop</td>\n",
       "      <td>4</td>\n",
       "      <td>3000.0</td>\n",
       "    </tr>\n",
       "    <tr>\n",
       "      <th>43</th>\n",
       "      <td>39</td>\n",
       "      <td>Paid Search</td>\n",
       "      <td>desktop</td>\n",
       "      <td>4</td>\n",
       "      <td>3000.0</td>\n",
       "    </tr>\n",
       "    <tr>\n",
       "      <th>50</th>\n",
       "      <td>45</td>\n",
       "      <td>Paid Search</td>\n",
       "      <td>desktop</td>\n",
       "      <td>4</td>\n",
       "      <td>1000.0</td>\n",
       "    </tr>\n",
       "    <tr>\n",
       "      <th>61</th>\n",
       "      <td>54</td>\n",
       "      <td>Paid Search</td>\n",
       "      <td>desktop</td>\n",
       "      <td>4</td>\n",
       "      <td>1000.0</td>\n",
       "    </tr>\n",
       "  </tbody>\n",
       "</table>\n",
       "</div>"
      ],
      "text/plain": [
       "    Id Origem de Tréfego Dispositivo  Página  Valor Simulado\n",
       "2    3       Paid Search     desktop       4          2000.0\n",
       "37  35            Direct     desktop       4          3000.0\n",
       "43  39       Paid Search     desktop       4          3000.0\n",
       "50  45       Paid Search     desktop       4          1000.0\n",
       "61  54       Paid Search     desktop       4          1000.0"
      ]
     },
     "execution_count": 22,
     "metadata": {},
     "output_type": "execute_result"
    }
   ],
   "source": [
    "avancaram.head()"
   ]
  },
  {
   "cell_type": "markdown",
   "metadata": {},
   "source": [
    "<p style=\"border:1px solid; padding: 10px; background-color: gray; color: white;\">Tudo certo. Vamos criar outro dataset com os usuários que não avançaram no funil de vendas e visualizá-lo.</p>"
   ]
  },
  {
   "cell_type": "code",
   "execution_count": 23,
   "metadata": {},
   "outputs": [],
   "source": [
    "nao_avancaram = users.drop_duplicates(subset='Id', keep=False)"
   ]
  },
  {
   "cell_type": "code",
   "execution_count": 24,
   "metadata": {},
   "outputs": [
    {
     "data": {
      "text/html": [
       "<div>\n",
       "<style scoped>\n",
       "    .dataframe tbody tr th:only-of-type {\n",
       "        vertical-align: middle;\n",
       "    }\n",
       "\n",
       "    .dataframe tbody tr th {\n",
       "        vertical-align: top;\n",
       "    }\n",
       "\n",
       "    .dataframe thead th {\n",
       "        text-align: right;\n",
       "    }\n",
       "</style>\n",
       "<table border=\"1\" class=\"dataframe\">\n",
       "  <thead>\n",
       "    <tr style=\"text-align: right;\">\n",
       "      <th></th>\n",
       "      <th>Id</th>\n",
       "      <th>Origem de Tréfego</th>\n",
       "      <th>Dispositivo</th>\n",
       "      <th>Página</th>\n",
       "      <th>Valor Simulado</th>\n",
       "    </tr>\n",
       "  </thead>\n",
       "  <tbody>\n",
       "    <tr>\n",
       "      <th>0</th>\n",
       "      <td>1</td>\n",
       "      <td>Paid Search</td>\n",
       "      <td>desktop</td>\n",
       "      <td>1</td>\n",
       "      <td>0.0</td>\n",
       "    </tr>\n",
       "    <tr>\n",
       "      <th>1</th>\n",
       "      <td>2</td>\n",
       "      <td>Paid Search</td>\n",
       "      <td>desktop</td>\n",
       "      <td>1</td>\n",
       "      <td>0.0</td>\n",
       "    </tr>\n",
       "    <tr>\n",
       "      <th>6</th>\n",
       "      <td>4</td>\n",
       "      <td>Paid Search</td>\n",
       "      <td>desktop</td>\n",
       "      <td>1</td>\n",
       "      <td>0.0</td>\n",
       "    </tr>\n",
       "    <tr>\n",
       "      <th>7</th>\n",
       "      <td>5</td>\n",
       "      <td>Paid Search</td>\n",
       "      <td>desktop</td>\n",
       "      <td>1</td>\n",
       "      <td>0.0</td>\n",
       "    </tr>\n",
       "    <tr>\n",
       "      <th>8</th>\n",
       "      <td>6</td>\n",
       "      <td>Paid Search</td>\n",
       "      <td>desktop</td>\n",
       "      <td>1</td>\n",
       "      <td>0.0</td>\n",
       "    </tr>\n",
       "    <tr>\n",
       "      <th>...</th>\n",
       "      <td>...</td>\n",
       "      <td>...</td>\n",
       "      <td>...</td>\n",
       "      <td>...</td>\n",
       "      <td>...</td>\n",
       "    </tr>\n",
       "    <tr>\n",
       "      <th>14689</th>\n",
       "      <td>30250</td>\n",
       "      <td>Direct</td>\n",
       "      <td>desktop</td>\n",
       "      <td>1</td>\n",
       "      <td>0.0</td>\n",
       "    </tr>\n",
       "    <tr>\n",
       "      <th>14690</th>\n",
       "      <td>30251</td>\n",
       "      <td>Direct</td>\n",
       "      <td>desktop</td>\n",
       "      <td>1</td>\n",
       "      <td>0.0</td>\n",
       "    </tr>\n",
       "    <tr>\n",
       "      <th>14695</th>\n",
       "      <td>30253</td>\n",
       "      <td>Direct</td>\n",
       "      <td>desktop</td>\n",
       "      <td>1</td>\n",
       "      <td>0.0</td>\n",
       "    </tr>\n",
       "    <tr>\n",
       "      <th>14696</th>\n",
       "      <td>30254</td>\n",
       "      <td>Direct</td>\n",
       "      <td>desktop</td>\n",
       "      <td>1</td>\n",
       "      <td>0.0</td>\n",
       "    </tr>\n",
       "    <tr>\n",
       "      <th>14697</th>\n",
       "      <td>30255</td>\n",
       "      <td>Direct</td>\n",
       "      <td>desktop</td>\n",
       "      <td>1</td>\n",
       "      <td>0.0</td>\n",
       "    </tr>\n",
       "  </tbody>\n",
       "</table>\n",
       "<p>5834 rows × 5 columns</p>\n",
       "</div>"
      ],
      "text/plain": [
       "          Id Origem de Tréfego Dispositivo  Página  Valor Simulado\n",
       "0          1       Paid Search     desktop       1             0.0\n",
       "1          2       Paid Search     desktop       1             0.0\n",
       "6          4       Paid Search     desktop       1             0.0\n",
       "7          5       Paid Search     desktop       1             0.0\n",
       "8          6       Paid Search     desktop       1             0.0\n",
       "...      ...               ...         ...     ...             ...\n",
       "14689  30250            Direct     desktop       1             0.0\n",
       "14690  30251            Direct     desktop       1             0.0\n",
       "14695  30253            Direct     desktop       1             0.0\n",
       "14696  30254            Direct     desktop       1             0.0\n",
       "14697  30255            Direct     desktop       1             0.0\n",
       "\n",
       "[5834 rows x 5 columns]"
      ]
     },
     "execution_count": 24,
     "metadata": {},
     "output_type": "execute_result"
    }
   ],
   "source": [
    "nao_avancaram"
   ]
  },
  {
   "cell_type": "markdown",
   "metadata": {},
   "source": [
    "<p style=\"border:1px solid; padding: 10px; background-color: gray; color: white;\">Feito, agora é hora de concatenar os dois datasets sem duplicatas, o com usuários que avançaram no funil e o com usuários que não o fizeram. Vamos visualizá-lo após a concatenação e plotá-lo num gráfico.</p>"
   ]
  },
  {
   "cell_type": "code",
   "execution_count": 25,
   "metadata": {},
   "outputs": [],
   "source": [
    "funil_ok = pd.concat([avancaram, nao_avancaram])"
   ]
  },
  {
   "cell_type": "code",
   "execution_count": 26,
   "metadata": {},
   "outputs": [],
   "source": [
    "funil_ok = funil_ok.sort_values(['Id'])"
   ]
  },
  {
   "cell_type": "code",
   "execution_count": 27,
   "metadata": {},
   "outputs": [
    {
     "data": {
      "text/html": [
       "<div>\n",
       "<style scoped>\n",
       "    .dataframe tbody tr th:only-of-type {\n",
       "        vertical-align: middle;\n",
       "    }\n",
       "\n",
       "    .dataframe tbody tr th {\n",
       "        vertical-align: top;\n",
       "    }\n",
       "\n",
       "    .dataframe thead th {\n",
       "        text-align: right;\n",
       "    }\n",
       "</style>\n",
       "<table border=\"1\" class=\"dataframe\">\n",
       "  <thead>\n",
       "    <tr style=\"text-align: right;\">\n",
       "      <th></th>\n",
       "      <th>Id</th>\n",
       "      <th>Origem de Tréfego</th>\n",
       "      <th>Dispositivo</th>\n",
       "      <th>Página</th>\n",
       "      <th>Valor Simulado</th>\n",
       "    </tr>\n",
       "  </thead>\n",
       "  <tbody>\n",
       "    <tr>\n",
       "      <th>0</th>\n",
       "      <td>1</td>\n",
       "      <td>Paid Search</td>\n",
       "      <td>desktop</td>\n",
       "      <td>1</td>\n",
       "      <td>0.0</td>\n",
       "    </tr>\n",
       "    <tr>\n",
       "      <th>1</th>\n",
       "      <td>2</td>\n",
       "      <td>Paid Search</td>\n",
       "      <td>desktop</td>\n",
       "      <td>1</td>\n",
       "      <td>0.0</td>\n",
       "    </tr>\n",
       "    <tr>\n",
       "      <th>2</th>\n",
       "      <td>3</td>\n",
       "      <td>Paid Search</td>\n",
       "      <td>desktop</td>\n",
       "      <td>4</td>\n",
       "      <td>2000.0</td>\n",
       "    </tr>\n",
       "    <tr>\n",
       "      <th>6</th>\n",
       "      <td>4</td>\n",
       "      <td>Paid Search</td>\n",
       "      <td>desktop</td>\n",
       "      <td>1</td>\n",
       "      <td>0.0</td>\n",
       "    </tr>\n",
       "    <tr>\n",
       "      <th>7</th>\n",
       "      <td>5</td>\n",
       "      <td>Paid Search</td>\n",
       "      <td>desktop</td>\n",
       "      <td>1</td>\n",
       "      <td>0.0</td>\n",
       "    </tr>\n",
       "  </tbody>\n",
       "</table>\n",
       "</div>"
      ],
      "text/plain": [
       "   Id Origem de Tréfego Dispositivo  Página  Valor Simulado\n",
       "0   1       Paid Search     desktop       1             0.0\n",
       "1   2       Paid Search     desktop       1             0.0\n",
       "2   3       Paid Search     desktop       4          2000.0\n",
       "6   4       Paid Search     desktop       1             0.0\n",
       "7   5       Paid Search     desktop       1             0.0"
      ]
     },
     "execution_count": 27,
     "metadata": {},
     "output_type": "execute_result"
    }
   ],
   "source": [
    "funil_ok.head()"
   ]
  },
  {
   "cell_type": "code",
   "execution_count": 28,
   "metadata": {},
   "outputs": [
    {
     "data": {
      "text/plain": [
       "Text(0, 0.5, 'Número de usuários')"
      ]
     },
     "execution_count": 28,
     "metadata": {},
     "output_type": "execute_result"
    },
    {
     "data": {
      "image/png": "[encoded data removed]",
      "text/plain": [
       "<Figure size 1296x360 with 1 Axes>"
      ]
     },
     "metadata": {
      "needs_background": "light"
     },
     "output_type": "display_data"
    }
   ],
   "source": [
    "ax = sns.countplot(x=\"Página\", data=funil_ok)\n",
    "ax.set_ylabel('Número de usuários')"
   ]
  },
  {
   "cell_type": "markdown",
   "metadata": {},
   "source": [
    "<p style=\"border:1px solid; padding: 10px; background-color: gray; color: white;\">Houve uma mudança substancial na composição do funil com a eliminação de duplicatas. A maioria dos acessos fica na primeira página, mas quando avançam para a terceira é grande a chance de chegarem à página 4, a etapa final do funil. Observamos também uma resistência (ainda que pequena) na etapa 2. Vamos verificar esses valores em percentuais.</p>"
   ]
  },
  {
   "cell_type": "code",
   "execution_count": 29,
   "metadata": {},
   "outputs": [
    {
     "data": {
      "text/plain": [
       "Text(0, 0.5, '')"
      ]
     },
     "execution_count": 29,
     "metadata": {},
     "output_type": "execute_result"
    },
    {
     "data": {
      "image/png": "[encoded data removed]",
      "text/plain": [
       "<Figure size 1440x576 with 1 Axes>"
      ]
     },
     "metadata": {},
     "output_type": "display_data"
    }
   ],
   "source": [
    "plt.figure(figsize=(20,8))\n",
    "funil_pizza = (funil_ok['Página'].value_counts(normalize=True)*100).plot(kind='pie', autopct='%1.1f%%')\n",
    "funil_pizza.set_ylabel('')"
   ]
  },
  {
   "cell_type": "markdown",
   "metadata": {},
   "source": [
    "<p style=\"border:1px solid; padding: 10px; background-color: gray; color: white;\">A conversão deste funil está em torno de 15,7%. Para avaliar a qualidade das captações, vamos conferir como estão as simulações de investimento entre os leads convertidos. Na primeira tabela abaixo exibiremos à esquerda o valor simulado e à direita a quantidade de usuários que simulou esse valor. Na segunda tabela teremos à esquerda o valor investido e à direita a quantidade de usuários em percentual.</p>"
   ]
  },
  {
   "cell_type": "code",
   "execution_count": 30,
   "metadata": {},
   "outputs": [
    {
     "data": {
      "text/plain": [
       "100000.0    301\n",
       "50000.0     159\n",
       "20000.0     157\n",
       "22000.0     136\n",
       "110000.0    108\n",
       "9000.0      105\n",
       "120000.0     87\n",
       "7000.0       64\n",
       "5000.0       56\n",
       "10000.0      54\n",
       "17000.0      42\n",
       "15000.0      35\n",
       "1000.0       34\n",
       "6000.0       31\n",
       "25000.0      31\n",
       "Name: Valor Simulado, dtype: int64"
      ]
     },
     "execution_count": 30,
     "metadata": {},
     "output_type": "execute_result"
    }
   ],
   "source": [
    "funil_ok[funil_ok['Página'] == 4]['Valor Simulado'].value_counts().head(15)"
   ]
  },
  {
   "cell_type": "code",
   "execution_count": 31,
   "metadata": {},
   "outputs": [
    {
     "data": {
      "text/plain": [
       "100000.0    19.159771\n",
       "50000.0     10.120942\n",
       "20000.0      9.993635\n",
       "22000.0      8.656906\n",
       "110000.0     6.874602\n",
       "9000.0       6.683641\n",
       "120000.0     5.537874\n",
       "7000.0       4.073838\n",
       "5000.0       3.564609\n",
       "10000.0      3.437301\n",
       "17000.0      2.673456\n",
       "15000.0      2.227880\n",
       "1000.0       2.164227\n",
       "6000.0       1.973265\n",
       "25000.0      1.973265\n",
       "Name: Valor Simulado, dtype: float64"
      ]
     },
     "execution_count": 31,
     "metadata": {},
     "output_type": "execute_result"
    }
   ],
   "source": [
    "(funil_ok[funil_ok['Página'] == 4]['Valor Simulado'].value_counts(normalize=True)*100).head(15)"
   ]
  },
  {
   "cell_type": "markdown",
   "metadata": {},
   "source": [
    "<p style=\"border:1px solid; padding: 10px; background-color: gray; color: white;\">Abaixo mostraremos sumários estatísticos dos valores investidos: os quartis, o valor mínimo, o máximo e o erro padrão.</p>"
   ]
  },
  {
   "cell_type": "code",
   "execution_count": 32,
   "metadata": {},
   "outputs": [
    {
     "data": {
      "text/plain": [
       "count      1571.000000\n",
       "mean      48395.926162\n",
       "std       44248.500165\n",
       "min        1000.000000\n",
       "25%       10000.000000\n",
       "50%       22000.000000\n",
       "75%      100000.000000\n",
       "max      200000.000000\n",
       "Name: Valor Simulado, dtype: float64"
      ]
     },
     "execution_count": 32,
     "metadata": {},
     "output_type": "execute_result"
    }
   ],
   "source": [
    "funil_ok[funil_ok['Página'] == 4]['Valor Simulado'].describe()"
   ]
  },
  {
   "cell_type": "markdown",
   "metadata": {},
   "source": [
    "<p style=\"border:1px solid; padding: 10px; background-color: green; color: white; border: 0px;\">Com cerca de 15,7% de conversão, a performance desse funil está muito acima da média esperada para qualquer ramo de negócio, segundo levantamento do Unbounce (saiba mais clicando <a href= \"https://unbounce.com/average-conversion-rates-landing-pages/\"><span style=\"color: white;\">aqui).</span></a> <br><br>\n",
    "A grande variância nos valores simulados (e a palpabilidade segundo a realidade brasileira, sabendo que 50% das cotações são de valores até 22 mil) mostra que o público captado é real e diverso, que provavelmente foi bem informado no processo de captação, ou seja, é um público bastante qualificado para fechar vendas.\n",
    "<br><br>\n",
    "<strong>Em suma: o funil está com excelente performance de conversão e as captações feitas por meio dele são de bastante qualidade.</strong>\n",
    "</p>\n"
   ]
  },
  {
   "cell_type": "markdown",
   "metadata": {},
   "source": [
    "-------------------------------------------------------"
   ]
  },
  {
   "cell_type": "markdown",
   "metadata": {},
   "source": [
    "<h1 style=\"text-align: center; color: #0C29D0;\">Requisito 2 - Aponte onde há potenciais de melhoria e o que você sugere para aumentar as taxas de conversão do funil.</h1>"
   ]
  },
  {
   "cell_type": "markdown",
   "metadata": {},
   "source": [
    "<p style=\"border:1px solid; padding: 10px; background-color: #f3f9ff; color: #white; border: 0px;\">Como vimos, a taxa de conversão deste funil de vendas está muito acima da média e os leads captados são bastante qualificados, evidenciando que no geral a estratégia de captação e a experiência do usuário estão funcionando bem. Porém, há espaço para melhoria.</p>"
   ]
  },
  {
   "cell_type": "markdown",
   "metadata": {},
   "source": [
    "<br>\n",
    "<h3 style=\"text-align: center; color: gray;\">Usuários que pararam na Página 2 (Questionário)</h3>"
   ]
  },
  {
   "cell_type": "markdown",
   "metadata": {},
   "source": [
    "<p style=\"border:1px solid; padding: 10px; background-color: gray; color: white;\">O primeiro ponto de atenção que surgiu na análise do funil de vendas são os usuários na segunda página (2 - Questionário) que não avançam para a próxima etapa. Vamos conhecer um pouco mais desses usuários, sua origem e dispositivo usado para acesso.</p>"
   ]
  },
  {
   "cell_type": "code",
   "execution_count": 33,
   "metadata": {},
   "outputs": [
    {
     "data": {
      "text/plain": [
       "Paid Search       35.000000\n",
       "Organic Search    29.759036\n",
       "Direct            27.409639\n",
       "Social             7.831325\n",
       "Name: Origem de Tréfego, dtype: float64"
      ]
     },
     "execution_count": 33,
     "metadata": {},
     "output_type": "execute_result"
    }
   ],
   "source": [
    "funil_ok[funil_ok['Página'] == 2]['Origem de Tréfego'].value_counts(normalize=True)*100"
   ]
  },
  {
   "cell_type": "code",
   "execution_count": 34,
   "metadata": {},
   "outputs": [
    {
     "data": {
      "text/plain": [
       "desktop    69.096386\n",
       "mobile     30.903614\n",
       "Name: Dispositivo, dtype: float64"
      ]
     },
     "execution_count": 34,
     "metadata": {},
     "output_type": "execute_result"
    }
   ],
   "source": [
    "funil_ok[funil_ok['Página'] == 2]['Dispositivo'].value_counts(normalize=True)*100"
   ]
  },
  {
   "cell_type": "markdown",
   "metadata": {},
   "source": [
    "<p style=\"border:1px solid; padding: 10px; background-color: #f3f9ff; color: #white; border: 0px;\">O público que deixa o site na etapa 2 do funil vem em sua maioria de cliques em anúncios de motores de busca (35%), feitos a partir de desktops (69% dos acessos).</p>"
   ]
  },
  {
   "cell_type": "markdown",
   "metadata": {},
   "source": [
    "<p style=\"border:1px solid; padding: 10px; background-color: gray; color: white;\">Vamos comparar estes mesmos sumários com os do público que efetivamente chegou ao fim do funil de vendas, para ver possíveis diferenças.</p>"
   ]
  },
  {
   "cell_type": "code",
   "execution_count": 35,
   "metadata": {},
   "outputs": [
    {
     "data": {
      "text/plain": [
       "Direct            52.259707\n",
       "Organic Search    32.081477\n",
       "Paid Search       13.494589\n",
       "Social             2.164227\n",
       "Name: Origem de Tréfego, dtype: float64"
      ]
     },
     "execution_count": 35,
     "metadata": {},
     "output_type": "execute_result"
    }
   ],
   "source": [
    "funil_ok[funil_ok['Página'] == 4]['Origem de Tréfego'].value_counts(normalize=True)*100"
   ]
  },
  {
   "cell_type": "code",
   "execution_count": 36,
   "metadata": {},
   "outputs": [
    {
     "data": {
      "text/plain": [
       "desktop    78.166773\n",
       "mobile     21.833227\n",
       "Name: Dispositivo, dtype: float64"
      ]
     },
     "execution_count": 36,
     "metadata": {},
     "output_type": "execute_result"
    }
   ],
   "source": [
    "funil_ok[funil_ok['Página'] == 4]['Dispositivo'].value_counts(normalize=True)*100"
   ]
  },
  {
   "cell_type": "markdown",
   "metadata": {},
   "source": [
    "<p style=\"border:1px solid; padding: 10px; background-color: #f3f9ff; color: #white; border: 0px;\">Observou-se uma diferença na origem dos acessos entre os leads que converteram e os que ficaram na 2ª etapa. Quem converteu veio em sua maioria do tráfego gerado por email marketing, apps de mensagem, acesso direto pelo URL, busca orgânica e outros meios ignorados pelo Google Analytics. Quem não converteu veio majoritariamente de anúncios em motores de busca, e de buscas orgânicas.</p>"
   ]
  },
  {
   "cell_type": "markdown",
   "metadata": {},
   "source": [
    "<br>\n",
    "<h3 style=\"text-align: center; color: gray;\">Usuários que pararam na Página 1 (Home)</h3>"
   ]
  },
  {
   "cell_type": "markdown",
   "metadata": {},
   "source": [
    "<p style=\"border:1px solid; padding: 10px; background-color: gray; color: white;\">Como fizemos na última subsecção, vamos analisar agora os usuários que deixaram o site ainda na Home, sua origem e dispositivo usado no momento do acesso.</p>"
   ]
  },
  {
   "cell_type": "code",
   "execution_count": 37,
   "metadata": {},
   "outputs": [
    {
     "data": {
      "text/plain": [
       "Paid Search       54.628043\n",
       "Organic Search    22.591704\n",
       "Direct            20.260542\n",
       "Social             2.519712\n",
       "Name: Origem de Tréfego, dtype: float64"
      ]
     },
     "execution_count": 37,
     "metadata": {},
     "output_type": "execute_result"
    }
   ],
   "source": [
    "funil_ok[funil_ok['Página'] == 1]['Origem de Tréfego'].value_counts(normalize=True)*100"
   ]
  },
  {
   "cell_type": "code",
   "execution_count": 38,
   "metadata": {},
   "outputs": [
    {
     "data": {
      "text/plain": [
       "desktop    76.448406\n",
       "mobile     23.551594\n",
       "Name: Dispositivo, dtype: float64"
      ]
     },
     "execution_count": 38,
     "metadata": {},
     "output_type": "execute_result"
    }
   ],
   "source": [
    "funil_ok[funil_ok['Página'] == 1]['Dispositivo'].value_counts(normalize=True)*100"
   ]
  },
  {
   "cell_type": "markdown",
   "metadata": {},
   "source": [
    "<p style=\"border:1px solid; padding: 10px; background-color: #f3f9ff; color: #white; border: 0px;\">Dos leads que chegaram ao site e saíram sem progredir no funil, mais de 54% vieram de anúncios em motores de busca. Sendo um movimento também observado entre os leads que deixaram o site na página 2, talvez haja aí um padrão a ser investigado.</p>"
   ]
  },
  {
   "cell_type": "markdown",
   "metadata": {},
   "source": [
    "<br>\n",
    "<h3 style=\"text-align: center; color: gray;\">Usuários que pararam na Página 3 (Plano de Investimento)</h3>"
   ]
  },
  {
   "cell_type": "markdown",
   "metadata": {},
   "source": [
    "<p style=\"border:1px solid; padding: 10px; background-color: gray; color: white;\">Analisaremos os usuários que deixaram o site na página 3 da mesma maneira que fizemos com as últimas duas categorias.</p>"
   ]
  },
  {
   "cell_type": "code",
   "execution_count": 39,
   "metadata": {},
   "outputs": [
    {
     "data": {
      "text/plain": [
       "Direct            39.465241\n",
       "Paid Search       32.941176\n",
       "Organic Search    22.566845\n",
       "Social             5.026738\n",
       "Name: Origem de Tréfego, dtype: float64"
      ]
     },
     "execution_count": 39,
     "metadata": {},
     "output_type": "execute_result"
    }
   ],
   "source": [
    "funil_ok[funil_ok['Página'] == 3]['Origem de Tréfego'].value_counts(normalize=True)*100"
   ]
  },
  {
   "cell_type": "code",
   "execution_count": 40,
   "metadata": {},
   "outputs": [
    {
     "data": {
      "text/plain": [
       "desktop    58.074866\n",
       "mobile     41.925134\n",
       "Name: Dispositivo, dtype: float64"
      ]
     },
     "execution_count": 40,
     "metadata": {},
     "output_type": "execute_result"
    }
   ],
   "source": [
    "funil_ok[funil_ok['Página'] == 3]['Dispositivo'].value_counts(normalize=True)*100"
   ]
  },
  {
   "cell_type": "markdown",
   "metadata": {},
   "source": [
    "<p style=\"border:1px solid; padding: 10px; background-color: #f3f9ff; color: #white; border: 0px;\">Dos leads que pararam na página 3, a maior parte veio de link direto ou de origem não rastreada pelo Google Analytics (39%), e em segundo lugar, de anúncios e motores de busca.</p>"
   ]
  },
  {
   "cell_type": "markdown",
   "metadata": {},
   "source": [
    "<br>\n",
    "<h3 style=\"text-align: center; color: gray;\">Testando estatisticamente a hipótese</h3>"
   ]
  },
  {
   "cell_type": "markdown",
   "metadata": {},
   "source": [
    "Com essas descobertas, nossas hipóteses são:\n",
    "* **Hipótese nula:** Comparando com outras origens, não há diferença estatística na qualidade do clique trazido por patrocínio em motores de busca.\n",
    "* **Hipótese alternativa:** O patrocínio em motores de busca tem conversão abaixo das outras origens."
   ]
  },
  {
   "cell_type": "markdown",
   "metadata": {},
   "source": [
    "<p style=\"border:1px solid; padding: 10px; background-color: gray; color: white;\">Faremos agora um teste estatístico (o teste chi-squared) entre esses dois grupos, leads gerados por busca paga e por outros meios, para confirmar se há uma significância na nossa hipótese alternativa. Primeiro, criaremos os dois grupos abaixo.</p>"
   ]
  },
  {
   "cell_type": "code",
   "execution_count": 41,
   "metadata": {},
   "outputs": [],
   "source": [
    "ads = funil_ok[funil_ok['Origem de Tréfego'] == 'Paid Search']\n",
    "non_ads = funil_ok[funil_ok['Origem de Tréfego'] != 'Paid Search']"
   ]
  },
  {
   "cell_type": "code",
   "execution_count": 42,
   "metadata": {},
   "outputs": [],
   "source": [
    "ads_convert = len(ads[ads['Página'] == 4])"
   ]
  },
  {
   "cell_type": "code",
   "execution_count": 43,
   "metadata": {},
   "outputs": [],
   "source": [
    "n_ads_conv = len(non_ads[non_ads['Página'] == 4])"
   ]
  },
  {
   "cell_type": "markdown",
   "metadata": {},
   "source": [
    "<p style=\"border:1px solid; padding: 10px; background-color: gray; color: white;\">Agora extrairemos os valores observados de conversão para esses dois grupos.</p>"
   ]
  },
  {
   "cell_type": "code",
   "execution_count": 44,
   "metadata": {},
   "outputs": [
    {
     "data": {
      "text/plain": [
       "212"
      ]
     },
     "execution_count": 44,
     "metadata": {},
     "output_type": "execute_result"
    }
   ],
   "source": [
    "ads_convert"
   ]
  },
  {
   "cell_type": "code",
   "execution_count": 45,
   "metadata": {},
   "outputs": [
    {
     "data": {
      "text/plain": [
       "1359"
      ]
     },
     "execution_count": 45,
     "metadata": {},
     "output_type": "execute_result"
    }
   ],
   "source": [
    "n_ads_conv"
   ]
  },
  {
   "cell_type": "markdown",
   "metadata": {},
   "source": [
    "<p style=\"border:1px solid; padding: 10px; background-color: gray; color: white;\">Com os valores observados, calcularemos o chi-squared dos grupos.</p>"
   ]
  },
  {
   "cell_type": "code",
   "execution_count": 46,
   "metadata": {},
   "outputs": [
    {
     "data": {
      "text/plain": [
       "418.71705919796307"
      ]
     },
     "execution_count": 46,
     "metadata": {},
     "output_type": "execute_result"
    }
   ],
   "source": [
    "ads_chi_sq = ((212-785.5)**2)/785.5\n",
    "ads_chi_sq"
   ]
  },
  {
   "cell_type": "code",
   "execution_count": 47,
   "metadata": {},
   "outputs": [
    {
     "data": {
      "text/plain": [
       "418.71705919796307"
      ]
     },
     "execution_count": 47,
     "metadata": {},
     "output_type": "execute_result"
    }
   ],
   "source": [
    "nads_chi_sq = ((1359-785.5)**2)/785.5\n",
    "nads_chi_sq"
   ]
  },
  {
   "cell_type": "code",
   "execution_count": 48,
   "metadata": {},
   "outputs": [
    {
     "data": {
      "text/plain": [
       "837.4341183959261"
      ]
     },
     "execution_count": 48,
     "metadata": {},
     "output_type": "execute_result"
    }
   ],
   "source": [
    "grupos_chi_sq = ads_chi_sq + nads_chi_sq\n",
    "grupos_chi_sq"
   ]
  },
  {
   "cell_type": "code",
   "execution_count": 49,
   "metadata": {},
   "outputs": [],
   "source": [
    "chi_squared_values = []\n",
    "\n",
    "for i in range(1000):\n",
    "    seq = np.random.random((1571,))\n",
    "    seq[seq < 0.5] = 0\n",
    "    seq[seq >= 0.5] = 1\n",
    "    ads_count = len(seq[seq == 0])\n",
    "    nads_count = len(seq[seq == 1])\n",
    "    ads_diff = ((ads_count - 785.5)**2)/785.5\n",
    "    nads_diff = ((nads_count - 785.5)**2)/785.5\n",
    "    chi_sq = ads_diff + nads_diff\n",
    "    chi_squared_values.append(chi_sq)"
   ]
  },
  {
   "cell_type": "markdown",
   "metadata": {},
   "source": [
    "<p style=\"border:1px solid; padding: 10px; background-color: gray; color: white;\">Agora veremos a distribuição dos valores de chi-squared gerados em 1000 repetições aleatórias.</p>"
   ]
  },
  {
   "cell_type": "code",
   "execution_count": 50,
   "metadata": {},
   "outputs": [
    {
     "data": {
      "text/plain": [
       "(array([790., 128.,  43.,  24.,   8.,   4.,   2.,   0.,   0.,   1.]),\n",
       " array([6.36537237e-04, 1.45194144e+00, 2.90324634e+00, 4.35455124e+00,\n",
       "        5.80585614e+00, 7.25716104e+00, 8.70846595e+00, 1.01597708e+01,\n",
       "        1.16110757e+01, 1.30623806e+01, 1.45136856e+01]),\n",
       " <a list of 10 Patch objects>)"
      ]
     },
     "execution_count": 50,
     "metadata": {},
     "output_type": "execute_result"
    },
    {
     "data": {
      "image/png": "[encoded data removed]",
      "text/plain": [
       "<Figure size 1296x360 with 1 Axes>"
      ]
     },
     "metadata": {
      "needs_background": "light"
     },
     "output_type": "display_data"
    }
   ],
   "source": [
    "plt.hist(chi_squared_values)"
   ]
  },
  {
   "cell_type": "markdown",
   "metadata": {},
   "source": [
    "<p style=\"border:1px solid; padding: 10px; background-color: #f3f9ff; color: #white; border: 0px;\">A grande maioria dos valores chi-squared está localizada entre 0 e 2. Vamos verificar o maior valor dessa distribuição para entender se ele se aproxima do chi-squared original.</p>"
   ]
  },
  {
   "cell_type": "code",
   "execution_count": 51,
   "metadata": {},
   "outputs": [
    {
     "data": {
      "text/plain": [
       "14.51368555060471"
      ]
     },
     "execution_count": 51,
     "metadata": {},
     "output_type": "execute_result"
    }
   ],
   "source": [
    "max(chi_squared_values)"
   ]
  },
  {
   "cell_type": "markdown",
   "metadata": {},
   "source": [
    "<p style=\"border:1px solid; padding: 10px; background-color: gray; color: white;\">O chi-squared calculado originalmente para os dois grupos resultou em 837.43, e o calculado no teste de chi-squared com 1000 repetições aleatórias tem como maior valor 14.13. Ou seja, a diferença de performance que há entre cliques advindos de Ads e de cliques vindos de outros meios não é dada ao acaso, mas sim a características inerentes a cada um dos dois grupos.</p>"
   ]
  },
  {
   "cell_type": "markdown",
   "metadata": {},
   "source": [
    "<p style=\"border:1px solid; padding: 10px; background-color: green; color: white; border: 0px;\">A reduzida qualidade do clique vindo de Ads é estatisticamente relevante, de maneira que está sendo investido dinheiro em patrocínios que estão performando abaixo do esperado. Para aperfeiçoar a captação de leads é sugerido rever a segmentação, os textos e as palavras-chave desses anúncios em motores de busca.\n"
   ]
  },
  {
   "cell_type": "markdown",
   "metadata": {},
   "source": [
    "-------------------------------------------------------"
   ]
  },
  {
   "cell_type": "markdown",
   "metadata": {},
   "source": [
    "<h1 style=\"text-align: center; color: #0C29D0;\">Requisito 3 - Quais hipóteses você teria de melhorias no nosso funil de conversão? Quais outros dados você utilizaria e como analisaria para confirmar suas hipóteses?</h1>"
   ]
  },
  {
   "cell_type": "markdown",
   "metadata": {},
   "source": [
    "<p style=\"border:1px solid; padding: 10px; background-color: #f3f9ff; color: #white; border: 0px;\">Já temos  parte deste requisito respondida no item anterior. Ao que já foi citado, adicionamos as seguintes recomendações:"
   ]
  },
  {
   "cell_type": "markdown",
   "metadata": {},
   "source": [
    "<br>\n",
    "<h3 style=\"text-align: center; color: gray;\">Sugestões para a página \"Questionário\"</h3>"
   ]
  },
  {
   "cell_type": "markdown",
   "metadata": {},
   "source": [
    "<p style=\"border:1px solid; padding: 10px; background-color: green; color: white; border: 0px;\">Quanto à página de Questionário, talvez seja interessante fazer um teste A/B tendo como alternativa uma menor quantidade de passos/perguntas a ser apresentada ao prospect. Atualmente temos 23 passos, talvez seja possível \"embutir\" certas perguntas em outras ou simplesmente eliminar algumas? Por exemplo, poderíamos eliminar o passo \"Vamos dar nome para o seu objetivo?\" e criar esse nome automaticamente com as informações cedidas pelo lead.</p>"
   ]
  },
  {
   "cell_type": "markdown",
   "metadata": {},
   "source": [
    "<p style=\"border:1px solid; padding: 10px; background-color: #f3f9ff; color: #white; border: 0px;\">Para saber exatamente quais etapas do questionário seriam as melhores candidatas a reestruturação, remoção ou truncamento (as que estariam causando mais fuga de leads), usaríamos como referência a métrica <strong>desistências</strong> da aba \"Fluxo de Comportamento\" do Google Analytics.</p>"
   ]
  },
  {
   "cell_type": "markdown",
   "metadata": {},
   "source": [
    "<br>\n",
    "<h3 style=\"text-align: center; color: gray;\">Desktop x Mobile</h3>"
   ]
  },
  {
   "cell_type": "markdown",
   "metadata": {},
   "source": [
    "<p style=\"border:1px solid; padding: 10px; background-color: gray; color: white;\">Abaixo vemos em percentuais a distribuição dos dispositivos usados pelos leads convertidos.</p>"
   ]
  },
  {
   "cell_type": "code",
   "execution_count": 52,
   "metadata": {},
   "outputs": [
    {
     "data": {
      "text/plain": [
       "Text(0, 0.5, '')"
      ]
     },
     "execution_count": 52,
     "metadata": {},
     "output_type": "execute_result"
    },
    {
     "data": {
      "image/png": "[encoded data removed]",
      "text/plain": [
       "<Figure size 1440x576 with 1 Axes>"
      ]
     },
     "metadata": {},
     "output_type": "display_data"
    }
   ],
   "source": [
    "plt.figure(figsize=(20,8))\n",
    "device_pizza = (funil_ok[funil_ok['Página'] == 4]['Dispositivo'].value_counts(normalize=True)*100).plot(kind='pie', autopct='%1.1f%%')\n",
    "device_pizza.set_ylabel('')"
   ]
  },
  {
   "cell_type": "markdown",
   "metadata": {},
   "source": [
    "<p style=\"border:1px solid; padding: 10px; background-color: gray; color: white;\">Mais de 78% dos leads convertidos tiveram origem no Desktop. Agora vamos comparar os sumários estatísticos dos valores simulados, entre usuários de desktop e usuários de mobile.</p>"
   ]
  },
  {
   "cell_type": "code",
   "execution_count": 53,
   "metadata": {},
   "outputs": [
    {
     "data": {
      "text/plain": [
       "Text(0, 0.5, 'Valor Simulado')"
      ]
     },
     "execution_count": 53,
     "metadata": {},
     "output_type": "execute_result"
    },
    {
     "data": {
      "image/png": "[encoded data removed]",
      "text/plain": [
       "<Figure size 1296x360 with 1 Axes>"
      ]
     },
     "metadata": {
      "needs_background": "light"
     },
     "output_type": "display_data"
    }
   ],
   "source": [
    "funil_valores = funil_ok[funil_ok['Valor Simulado'] > 0.0]\n",
    "funil_valores = funil_valores[['Dispositivo' , 'Valor Simulado']]\n",
    "funil_valores.groupby(by='Dispositivo').describe().plot(kind='bar', ylim=(0,60000), rot=0).set_ylabel('Valor Simulado')\n"
   ]
  },
  {
   "cell_type": "markdown",
   "metadata": {},
   "source": [
    "Dos sumários estatísticos, observamos que:\n",
    "* Há mais valores sendo simulados em desktop (observado em \"Valor Simulado, count\").\n",
    "* A média de valor simulado em desktops é equiparável àquela simulada em mobile (\"Valor Simulado, mean\").\n",
    "* 50% dos valores simulados em desktop vão até 15.000, enquanto a mesma métrica no mobile é inferior a 10.000 reais.\n",
    "* 75% dos valores simulados em desktop vão até 50.000, enquanto a mesma métrica no mobile é inferior a 30.000 reais."
   ]
  },
  {
   "cell_type": "markdown",
   "metadata": {},
   "source": [
    "<p style=\"border:1px solid; padding: 10px; background-color: green; color: white; border: 0px;\">Tendo em vista o alto percentual de leads gerados a partir de acessos por desktop e a concentração em valores mais altos das simulações feitas por esse dispositivo, é sugerido que sejam tomadas medidas para facilitar o caminho deste tipo de lead até a sua conversão.\n",
    "<br><br>  \n",
    "Hoje os três primeiros call to action do site da Magnetis (botão \"Comece agora\") indicam ao usuário de desktop que mude de dispositivo para continuar sua cotação (usando no smartphone um QR code para baixar o app e só depois iniciar sua avaliação), o que pode criar um empecilho à conversão de um segmento tão valioso.</p>"
   ]
  },
  {
   "cell_type": "markdown",
   "metadata": {},
   "source": [
    "<p style=\"border:1px solid; padding: 10px; background-color: #f3f9ff; color: #white; border: 0px;\">Poderíamos verificar se esta hipótese procede aplicando testes estatísticos (e exibindo sumários estatísticos como este acima) sobre os valores efetivamente investidos por clientes originários dos dois dispositivos. Para isso, precisaríamos de acesso à base de dados de investimentos por cliente em atividade, e claro, à base de dados que indica sua procedência.</p>"
   ]
  },
  {
   "cell_type": "markdown",
   "metadata": {},
   "source": [
    "<br>\n",
    "<h3 style=\"text-align: center; color: gray;\">Mídias Sociais</h3>"
   ]
  },
  {
   "cell_type": "markdown",
   "metadata": {},
   "source": [
    "<p style=\"border:1px solid; padding: 10px; background-color: gray; color: white;\">Vamos verificar abaixo quanto de tráfego tem vindo de mídias sociais.</p>"
   ]
  },
  {
   "cell_type": "code",
   "execution_count": 54,
   "metadata": {
    "scrolled": true
   },
   "outputs": [
    {
     "data": {
      "text/plain": [
       "<matplotlib.axes._subplots.AxesSubplot at 0x1b4d7ba96a0>"
      ]
     },
     "execution_count": 54,
     "metadata": {},
     "output_type": "execute_result"
    },
    {
     "data": {
      "image/png": "[encoded data removed]",
      "text/plain": [
       "<Figure size 1296x360 with 1 Axes>"
      ]
     },
     "metadata": {
      "needs_background": "light"
     },
     "output_type": "display_data"
    }
   ],
   "source": [
    "funil_ok['Origem de Tréfego'].value_counts().plot(kind='bar', rot=0)"
   ]
  },
  {
   "cell_type": "markdown",
   "metadata": {},
   "source": [
    "<p style=\"border:1px solid; padding: 10px; background-color: gray; color: white;\">E agora vamos comparar o número de conversões originadas nas mídias com outros meios.</p>"
   ]
  },
  {
   "cell_type": "code",
   "execution_count": 59,
   "metadata": {},
   "outputs": [
    {
     "data": {
      "text/plain": [
       "<matplotlib.axes._subplots.AxesSubplot at 0x1b4d84f2e50>"
      ]
     },
     "execution_count": 59,
     "metadata": {},
     "output_type": "execute_result"
    },
    {
     "data": {
      "image/png": "[encoded data removed]",
      "text/plain": [
       "<Figure size 1296x360 with 1 Axes>"
      ]
     },
     "metadata": {
      "needs_background": "light"
     },
     "output_type": "display_data"
    }
   ],
   "source": [
    "funil_ok[funil_ok['Página'] == 4]['Origem de Tréfego'].value_counts().plot(kind='bar', rot=0)"
   ]
  },
  {
   "cell_type": "markdown",
   "metadata": {},
   "source": [
    "<p style=\"border:1px solid; padding: 10px; background-color: #f3f9ff; color: #white; border: 0px;\">O tráfego originado em mídias sociais é pouco em relação a todas as outras fontes, mas não há motivo para preocupação por enquanto.\n",
    "<br>\n",
    "<br> No Google Analytics, \"Social\" rastreia cliques orgânicos de mídias sociais. Entre o Linkedin (que tem ainda baixa adesão geral no Brasil, apesar de qualificada), Instagram e Facebook, apenas o Facebook tem volume de público e permite incluir links em suas postagens. E analisando os perfis da Magnetis nessas plataformas acreditamos que o público da empresa está mais solidamente presente no Instagram.\n",
    "<br>\n",
    "<br>\n",
    "Com os dados que temos, a sugestão por enquanto é não dedicar esforços para levantar os resultados dessa métrica no Facebook.\n",
    "<br>\n",
    "<br>\n",
    "Por outro lado, se já não está sendo um feito trabalho similar, podemos iniciar ações para reforçar a presença no Linkedin, que não deverá trazer um tráfego expressivo dada sua baixa adesão no Brasil, mas que será de qualquer forma bastante qualificado.\n",
    "</p>"
   ]
  }
 ],
 "metadata": {
  "kernelspec": {
   "display_name": "Python 3",
   "language": "python",
   "name": "python3"
  },
  "language_info": {
   "codemirror_mode": {
    "name": "ipython",
    "version": 3
   },
   "file_extension": ".py",
   "mimetype": "text/x-python",
   "name": "python",
   "nbconvert_exporter": "python",
   "pygments_lexer": "ipython3",
   "version": "3.8.3"
  }
 },
 "nbformat": 4,
 "nbformat_minor": 4
}
